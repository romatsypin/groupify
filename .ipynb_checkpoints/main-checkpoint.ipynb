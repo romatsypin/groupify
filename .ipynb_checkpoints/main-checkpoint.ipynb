{
 "cells": [
  {
   "cell_type": "code",
   "execution_count": 1,
   "metadata": {},
   "outputs": [],
   "source": [
    "import pandas as pd\n",
    "import numpy as np\n",
    "import random\n",
    "from grouping import grouping\n",
    "from rating import rate"
   ]
  },
  {
   "cell_type": "code",
   "execution_count": 2,
   "metadata": {},
   "outputs": [],
   "source": [
    "# Create a column of names\n",
    "names = pd.DataFrame({\"name\": [\"Roman Tsypin\", \"Eric Telkkälä\", \"Topi Aila\", \"Samantha Bergdahl\", \"Cezar Budeci\", \"Tuuli Tapaninen\", \"Kaisa Otterklau\", \"Humble Harambe\", \"Moms Spaghetti\", \"Sanna Marin\", \"Wide Putin\", \"Peter Vesterbacka\", \"Timo Rally\", \"Emotional Table\", \"Bill Gates\", \"Elon Musk\", \"Mark Zuckerberg\", \"Ayn Rand\", \"Karl Marx\", \"David Ben-Gurion\", \"Ekaterina Shulman\"]})"
   ]
  },
  {
   "cell_type": "code",
   "execution_count": 3,
   "metadata": {
    "scrolled": true
   },
   "outputs": [],
   "source": [
    "# Create some random grades and add them to the dataframe\n",
    "rel_grades = []\n",
    "irrel_grades = []\n",
    "for i in range(names.shape[0]):\n",
    "    rel_grades.append(round(random.uniform(0, 5), 3))\n",
    "    irrel_grades.append(round(random.uniform(0, 5), 3))"
   ]
  },
  {
   "cell_type": "code",
   "execution_count": 4,
   "metadata": {
    "scrolled": true
   },
   "outputs": [
    {
     "name": "stdout",
     "output_type": "stream",
     "text": [
      "                 name  relevant_grades  irrelevant_grades\n",
      "0        Roman Tsypin            3.502              0.121\n",
      "1       Eric Telkkälä            3.175              4.104\n",
      "2           Topi Aila            2.047              0.964\n",
      "3   Samantha Bergdahl            0.786              3.376\n",
      "4        Cezar Budeci            2.539              1.304\n",
      "5     Tuuli Tapaninen            0.690              1.417\n",
      "6     Kaisa Otterklau            0.742              2.613\n",
      "7      Humble Harambe            1.691              1.295\n",
      "8      Moms Spaghetti            4.499              3.057\n",
      "9         Sanna Marin            2.666              2.592\n",
      "10         Wide Putin            4.914              2.843\n",
      "11  Peter Vesterbacka            0.677              1.729\n",
      "12         Timo Rally            2.398              2.329\n",
      "13    Emotional Table            4.810              4.922\n",
      "14         Bill Gates            0.126              1.359\n",
      "15          Elon Musk            0.368              0.790\n",
      "16    Mark Zuckerberg            1.657              2.336\n",
      "17           Ayn Rand            1.517              1.397\n",
      "18          Karl Marx            2.506              0.757\n",
      "19   David Ben-Gurion            2.522              0.167\n",
      "20  Ekaterina Shulman            1.286              2.434\n"
     ]
    }
   ],
   "source": [
    "# Create the table with grades\n",
    "names[\"relevant_grades\"] = rel_grades\n",
    "names[\"irrelevant_grades\"] = irrel_grades\n",
    "print(names)"
   ]
  },
  {
   "cell_type": "code",
   "execution_count": 5,
   "metadata": {},
   "outputs": [
    {
     "name": "stdout",
     "output_type": "stream",
     "text": [
      "                 name  relevant_grades  irrelevant_grades   rating\n",
      "0        Roman Tsypin            3.502              0.121   7.0645\n",
      "1       Eric Telkkälä            3.175              4.104   8.4020\n",
      "2           Topi Aila            2.047              0.964   4.5760\n",
      "3   Samantha Bergdahl            0.786              3.376   3.2600\n",
      "4        Cezar Budeci            2.539              1.304   5.7300\n",
      "5     Tuuli Tapaninen            0.690              1.417   2.0885\n",
      "6     Kaisa Otterklau            0.742              2.613   2.7905\n",
      "7      Humble Harambe            1.691              1.295   4.0295\n",
      "8      Moms Spaghetti            4.499              3.057  10.5265\n",
      "9         Sanna Marin            2.666              2.592   6.6280\n",
      "10         Wide Putin            4.914              2.843  11.2495\n",
      "11  Peter Vesterbacka            0.677              1.729   2.2185\n",
      "12         Timo Rally            2.398              2.329   5.9605\n",
      "13    Emotional Table            4.810              4.922  12.0810\n",
      "14         Bill Gates            0.126              1.359   0.9315\n",
      "15          Elon Musk            0.368              0.790   1.1310\n",
      "16    Mark Zuckerberg            1.657              2.336   4.4820\n",
      "17           Ayn Rand            1.517              1.397   3.7325\n",
      "18          Karl Marx            2.506              0.757   5.3905\n",
      "19   David Ben-Gurion            2.522              0.167   5.1275\n",
      "20  Ekaterina Shulman            1.286              2.434   3.7890\n"
     ]
    }
   ],
   "source": [
    "# Calculating rating for students and adding it to the table\n",
    "rating = []\n",
    "for i in range(names.shape[0]):\n",
    "    rating.append(rate(names.iloc[i][\"relevant_grades\"], names.iloc[i][\"irrelevant_grades\"]))\n",
    "names[\"rating\"] = rating\n",
    "print(names)"
   ]
  },
  {
   "cell_type": "code",
   "execution_count": 6,
   "metadata": {},
   "outputs": [
    {
     "name": "stdout",
     "output_type": "stream",
     "text": [
      "                 name  relevant_grades  irrelevant_grades   rating\n",
      "0     Emotional Table            4.810              4.922  12.0810\n",
      "1          Wide Putin            4.914              2.843  11.2495\n",
      "2      Moms Spaghetti            4.499              3.057  10.5265\n",
      "3       Eric Telkkälä            3.175              4.104   8.4020\n",
      "4        Roman Tsypin            3.502              0.121   7.0645\n",
      "5         Sanna Marin            2.666              2.592   6.6280\n",
      "6          Timo Rally            2.398              2.329   5.9605\n",
      "7        Cezar Budeci            2.539              1.304   5.7300\n",
      "8           Karl Marx            2.506              0.757   5.3905\n",
      "9    David Ben-Gurion            2.522              0.167   5.1275\n",
      "10          Topi Aila            2.047              0.964   4.5760\n",
      "11    Mark Zuckerberg            1.657              2.336   4.4820\n",
      "12     Humble Harambe            1.691              1.295   4.0295\n",
      "13  Ekaterina Shulman            1.286              2.434   3.7890\n",
      "14           Ayn Rand            1.517              1.397   3.7325\n",
      "15  Samantha Bergdahl            0.786              3.376   3.2600\n",
      "16    Kaisa Otterklau            0.742              2.613   2.7905\n",
      "17  Peter Vesterbacka            0.677              1.729   2.2185\n",
      "18    Tuuli Tapaninen            0.690              1.417   2.0885\n",
      "19          Elon Musk            0.368              0.790   1.1310\n",
      "20         Bill Gates            0.126              1.359   0.9315\n"
     ]
    }
   ],
   "source": [
    "# Sorting the table by rating\n",
    "names_sorted = names.sort_values(\"rating\", ascending = False, ignore_index = True)\n",
    "print(names_sorted)"
   ]
  },
  {
   "cell_type": "code",
   "execution_count": 7,
   "metadata": {
    "scrolled": true
   },
   "outputs": [
    {
     "name": "stdout",
     "output_type": "stream",
     "text": [
      "              name  relevant_grades  irrelevant_grades   rating  distance\n",
      "0  Emotional Table            4.810              4.922  12.0810    0.0000\n",
      "1       Wide Putin            4.914              2.843  11.2495    0.8315\n",
      "2   Moms Spaghetti            4.499              3.057  10.5265    0.7230\n",
      "3    Eric Telkkälä            3.175              4.104   8.4020    2.1245\n",
      "           name  relevant_grades  irrelevant_grades  rating  distance\n",
      "4  Roman Tsypin            3.502              0.121  7.0645    1.3375\n",
      "5   Sanna Marin            2.666              2.592  6.6280    0.4365\n",
      "6    Timo Rally            2.398              2.329  5.9605    0.6675\n",
      "7  Cezar Budeci            2.539              1.304  5.7300    0.2305\n",
      "                name  relevant_grades  irrelevant_grades  rating  distance\n",
      "8          Karl Marx            2.506              0.757  5.3905    0.3395\n",
      "9   David Ben-Gurion            2.522              0.167  5.1275    0.2630\n",
      "10         Topi Aila            2.047              0.964  4.5760    0.5515\n",
      "11   Mark Zuckerberg            1.657              2.336  4.4820    0.0940\n",
      "                 name  relevant_grades  irrelevant_grades  rating  distance\n",
      "12     Humble Harambe            1.691              1.295  4.0295    0.4525\n",
      "13  Ekaterina Shulman            1.286              2.434  3.7890    0.2405\n",
      "14           Ayn Rand            1.517              1.397  3.7325    0.0565\n",
      "15  Samantha Bergdahl            0.786              3.376  3.2600    0.4725\n",
      "                 name  relevant_grades  irrelevant_grades  rating  distance\n",
      "16    Kaisa Otterklau            0.742              2.613  2.7905    0.4695\n",
      "17  Peter Vesterbacka            0.677              1.729  2.2185    0.5720\n",
      "18    Tuuli Tapaninen            0.690              1.417  2.0885    0.1300\n",
      "19          Elon Musk            0.368              0.790  1.1310    0.9575\n",
      "20         Bill Gates            0.126              1.359  0.9315    0.1995\n"
     ]
    }
   ],
   "source": [
    "# Try grouping with different min and max members:\n",
    "\n",
    "min_memb = 4\n",
    "max_memb = 5\n",
    "alpha_interval = 0\n",
    "example = grouping(names_sorted, min_memb, max_memb)\n",
    "while example[\"group\" + str(len(example) - 1)].shape[0] < min_memb:\n",
    "    alpha_interval = alpha_interval + 0.05\n",
    "    alpha = round(random.uniform(-alpha_interval, alpha_interval), 3)\n",
    "    example = grouping(names_sorted, min_memb, max_memb, alpha)\n",
    "for i in example:\n",
    "    print(example[i])"
   ]
  },
  {
   "cell_type": "code",
   "execution_count": null,
   "metadata": {},
   "outputs": [],
   "source": []
  },
  {
   "cell_type": "code",
   "execution_count": null,
   "metadata": {},
   "outputs": [],
   "source": []
  }
 ],
 "metadata": {
  "kernelspec": {
   "display_name": "Python 3",
   "language": "python",
   "name": "python3"
  },
  "language_info": {
   "codemirror_mode": {
    "name": "ipython",
    "version": 3
   },
   "file_extension": ".py",
   "mimetype": "text/x-python",
   "name": "python",
   "nbconvert_exporter": "python",
   "pygments_lexer": "ipython3",
   "version": "3.8.5"
  }
 },
 "nbformat": 4,
 "nbformat_minor": 5
}
