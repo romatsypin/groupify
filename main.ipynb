{
 "cells": [
  {
   "cell_type": "code",
   "execution_count": null,
   "id": "casual-price",
   "metadata": {},
   "outputs": [],
   "source": [
    "import pandas as pd\n",
    "import numpy as np\n",
    "import random\n",
    "from grouping import grouping\n",
    "from rating import rate"
   ]
  },
  {
   "cell_type": "code",
   "execution_count": null,
   "id": "informational-turtle",
   "metadata": {},
   "outputs": [],
   "source": [
    "# Create a column of names\n",
    "names = pd.DataFrame({\"name\": [\"Roman Tsypin\", \"Eric Telkkälä\", \"Topi Aila\", \"Samantha Bergdahl\", \"Cezar Budeci\", \"Tuuli Tapaninen\", \"Kaisa Otterklau\", \"Hamza Lol\", \"Moms Spaghetti\", \"Sanna Marin\", \"Wide Putin\", \"Peter Vesterbacka\", \"Timo Rally\", \"Emotional Table\", \"Bill Gates\", \"Elon Musk\", \"Mark Zuckerberg\", \"Ayn Rand\", \"Karl Marx\", \"David Ben-Gurion\", \"Ekaterina Shulman\"]})"
   ]
  },
  {
   "cell_type": "code",
   "execution_count": null,
   "id": "popular-welding",
   "metadata": {
    "scrolled": true
   },
   "outputs": [],
   "source": [
    "# Create some random grades and add them to the dataframe\n",
    "rel_grades = []\n",
    "irrel_grades = []\n",
    "for i in range(names.shape[0]):\n",
    "    rel_grades.append(round(random.uniform(0, 5), 3))\n",
    "    irrel_grades.append(round(random.uniform(0, 5), 3))"
   ]
  },
  {
   "cell_type": "code",
   "execution_count": null,
   "id": "noble-submission",
   "metadata": {
    "scrolled": true
   },
   "outputs": [],
   "source": [
    "# Create the table with grades\n",
    "names[\"relevant_grades\"] = rel_grades\n",
    "names[\"irrelevant_grades\"] = irrel_grades\n",
    "print(names)"
   ]
  },
  {
   "cell_type": "code",
   "execution_count": null,
   "id": "elegant-screen",
   "metadata": {},
   "outputs": [],
   "source": [
    "# Calculating rating for students and adding it to the table\n",
    "rating = []\n",
    "for i in range(names.shape[0]):\n",
    "    rating.append(rate(names.iloc[i][\"relevant_grades\"], names.iloc[i][\"irrelevant_grades\"]))\n",
    "names[\"rating\"] = rating\n",
    "print(names)"
   ]
  },
  {
   "cell_type": "code",
   "execution_count": null,
   "id": "classified-riverside",
   "metadata": {},
   "outputs": [],
   "source": [
    "# Sorting the table by rating\n",
    "names_sorted = names.sort_values(\"rating\", ascending = False, ignore_index = True)\n",
    "print(names_sorted)"
   ]
  },
  {
   "cell_type": "code",
   "execution_count": null,
   "id": "canadian-pressure",
   "metadata": {},
   "outputs": [],
   "source": [
    "# Two issues:\n",
    "# 1. If minimum members is one, the algorithm is always gonna split into one-member teams\n",
    "# 2. Sometimes assigns the last member of the whole study group into separate team. Perhaps, they are too bad lmao.\n",
    "# Try grouping with different min and max members:\n",
    "example = grouping(names_sorted, 2, 5)\n",
    "for i in example:\n",
    "    print(example[i])"
   ]
  }
 ],
 "metadata": {
  "kernelspec": {
   "display_name": "Python 3",
   "language": "python",
   "name": "python3"
  },
  "language_info": {
   "codemirror_mode": {
    "name": "ipython",
    "version": 3
   },
   "file_extension": ".py",
   "mimetype": "text/x-python",
   "name": "python",
   "nbconvert_exporter": "python",
   "pygments_lexer": "ipython3",
   "version": "3.9.1"
  }
 },
 "nbformat": 4,
 "nbformat_minor": 5
}
