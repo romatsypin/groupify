{
 "cells": [
  {
   "cell_type": "code",
   "execution_count": null,
   "id": "advance-hobby",
   "metadata": {},
   "outputs": [],
   "source": [
    "# XXX means can be deleted in final deploy"
   ]
  },
  {
   "cell_type": "code",
   "execution_count": null,
   "id": "czech-review",
   "metadata": {},
   "outputs": [],
   "source": [
    "import mysql.connector\n",
    "\n",
    "mydb = mysql.connector.connect(\n",
    "    host=\"localhost\",\n",
    "    user=\"root\",\n",
    "    password=\"root\",\n",
    "    database=\"test\",\n",
    "    port=3307\n",
    ")\n",
    "\n",
    "mycursor = mydb.cursor()"
   ]
  },
  {
   "cell_type": "code",
   "execution_count": null,
   "id": "efficient-harassment",
   "metadata": {},
   "outputs": [],
   "source": [
    "import pandas as pd\n",
    "import numpy as np\n",
    "import random\n",
    "from grouping import grouping\n",
    "from rating import rate\n",
    "pd.set_option('display.max_rows', 500) #XXX\n",
    "pd.set_option('display.max_columns', 500) #XXX\n",
    "pd.set_option('display.width', 800) #XXX"
   ]
  },
  {
   "cell_type": "code",
   "execution_count": null,
   "id": "eligible-characterization",
   "metadata": {},
   "outputs": [],
   "source": [
    "# Create a column of names #XXX\n",
    "names = pd.DataFrame({\"name\": [\"Roman Tsypin\", \"Eric Telkkälä\", \"Topi Aila\", \"Samantha Bergdahl\", \"Cezar Budeci\", \"Tuuli Tapaninen\", \"Kaisa Otterklau\", \"Humble Harambe\", \"Moms Spaghetti\", \"Sanna Marin\", \"Wide Putin\", \"Peter Vesterbacka\", \"Timo Rally\", \"Emotional Table\", \"Bill Gates\", \"Elon Musk\", \"Mark Zuckerberg\", \"Ayn Rand\", \"Karl Marx\", \"David Ben-Gurion\", \"Ekaterina Shulman\", \"Tukhtaboy Juma\", \"Igor Smirnov\"]})"
   ]
  },
  {
   "cell_type": "code",
   "execution_count": null,
   "id": "checked-error",
   "metadata": {
    "scrolled": true
   },
   "outputs": [],
   "source": [
    "# Create some random grades and add them to the dataframe #XXX\n",
    "rel_grades = []\n",
    "irrel_grades = []\n",
    "motivation = []\n",
    "group_id = []\n",
    "student_id = []\n",
    "class_id = []\n",
    "z = 1\n",
    "for i in range(len(names)):\n",
    "    rel_grades.append(round(random.uniform(2, 5), 3))\n",
    "    irrel_grades.append(round(random.uniform(2, 5), 3))\n",
    "    motivation.append(round(random.randint(1, 5)))\n",
    "    group_id.append(123)\n",
    "    student_id.append(z)\n",
    "    z = z + 1\n",
    "    class_id.append(999)\n",
    "    "
   ]
  },
  {
   "cell_type": "code",
   "execution_count": null,
   "id": "finnish-pantyhose",
   "metadata": {
    "scrolled": true
   },
   "outputs": [],
   "source": [
    "# Create the table with grades\n",
    "names[\"relevant_grades\"] = rel_grades\n",
    "names[\"irrelevant_grades\"] = irrel_grades\n",
    "names[\"motivation\"] = motivation\n",
    "names[\"group_id\"] = student_id\n",
    "names[\"student_id\"] = student_id\n",
    "names[\"class_id\"] = class_id\n",
    "print(names)"
   ]
  },
  {
   "cell_type": "code",
   "execution_count": null,
   "id": "weighted-cookbook",
   "metadata": {},
   "outputs": [],
   "source": [
    "# Calculating rating for students and adding it to the table\n",
    "rating = []\n",
    "for i in range(len(names)):\n",
    "    rating.append(rate(names.iloc[i][\"relevant_grades\"], names.iloc[i][\"irrelevant_grades\"], names.iloc[i][\"motivation\"]))\n",
    "names[\"rating\"] = rating\n",
    "print(names)"
   ]
  },
  {
   "cell_type": "code",
   "execution_count": null,
   "id": "virgin-light",
   "metadata": {},
   "outputs": [],
   "source": [
    "# Sorting the table by rating\n",
    "names_sorted = names.sort_values(\"rating\", ascending = False, ignore_index = True)\n",
    "print(names_sorted)"
   ]
  },
  {
   "cell_type": "code",
   "execution_count": null,
   "id": "american-proxy",
   "metadata": {
    "scrolled": true
   },
   "outputs": [],
   "source": [
    "# Try grouping with different min and max members:\n",
    "\n",
    "min_memb = 3\n",
    "max_memb = 4\n",
    "\n",
    "alpha_interval = 0\n",
    "example = grouping(names_sorted, min_memb, max_memb)\n",
    "while len(example[\"group\" + str(len(example) - 1)]) < min_memb:\n",
    "    alpha_interval = alpha_interval + 0.05\n",
    "    alpha = round(random.uniform(-alpha_interval, alpha_interval), 3)\n",
    "    example = grouping(names_sorted, min_memb, max_memb, alpha)\n",
    "for key in example:\n",
    "    example[key][\"group_id\"] = key\n",
    "for i in example: \n",
    "    print(example[i])"
   ]
  },
  {
   "cell_type": "code",
   "execution_count": null,
   "id": "prepared-macro",
   "metadata": {},
   "outputs": [],
   "source": [
    "val = []\n",
    "for i in range(len(example)):\n",
    "    for j in range(len(example[\"group\" + str(i)])):\n",
    "        a = example[\"group\" + str(i)][['student_id', 'group_id', \"class_id\"]].iloc[j][\"student_id\"]\n",
    "        b = example[\"group\" + str(i)][['student_id', 'group_id', \"class_id\"]].iloc[j][\"group_id\"]\n",
    "        c = example[\"group\" + str(i)][['student_id', 'group_id', \"class_id\"]].iloc[j][\"class_id\"]\n",
    "        val.append((a, b, c))\n",
    "print(val)"
   ]
  },
  {
   "cell_type": "code",
   "execution_count": null,
   "id": "expensive-green",
   "metadata": {},
   "outputs": [],
   "source": [
    "sql = \"INSERT INTO students (student_id, group_id, class_id) VALUES (%s, %s, %s)\"\n",
    "   \n",
    "mycursor.executemany(sql, val)\n",
    "\n",
    "mydb.commit()\n",
    "\n",
    "print(mycursor.rowcount, \"record inserted.\")\n",
    "\n",
    "mycursor.execute(\"SELECT * FROM students\")\n",
    "\n",
    "myresult = mycursor.fetchall()\n",
    "\n",
    "for x in myresult:\n",
    "    print(x)"
   ]
  }
 ],
 "metadata": {
  "kernelspec": {
   "display_name": "Python 3",
   "language": "python",
   "name": "python3"
  },
  "language_info": {
   "codemirror_mode": {
    "name": "ipython",
    "version": 3
   },
   "file_extension": ".py",
   "mimetype": "text/x-python",
   "name": "python",
   "nbconvert_exporter": "python",
   "pygments_lexer": "ipython3",
   "version": "3.9.1"
  }
 },
 "nbformat": 4,
 "nbformat_minor": 5
}
