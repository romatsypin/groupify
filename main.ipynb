{
 "cells": [
  {
   "cell_type": "code",
   "execution_count": null,
   "id": "casual-price",
   "metadata": {},
   "outputs": [],
   "source": [
    "import pandas as pd\n",
    "import numpy as np\n",
    "import random\n",
    "from grouping import grouping\n",
    "from rating import rate\n",
    "pd.set_option('display.max_rows', 500)\n",
    "pd.set_option('display.max_columns', 500)\n",
    "pd.set_option('display.width', 1000)"
   ]
  },
  {
   "cell_type": "code",
   "execution_count": null,
   "id": "informational-turtle",
   "metadata": {},
   "outputs": [],
   "source": [
    "# Create a column of names\n",
    "names = pd.DataFrame({\"name\": [\"Roman Tsypin\", \"Eric Telkkälä\", \"Topi Aila\", \"Samantha Bergdahl\", \"Cezar Budeci\", \"Tuuli Tapaninen\", \"Kaisa Otterklau\", \"Humble Harambe\", \"Moms Spaghetti\", \"Sanna Marin\", \"Wide Putin\", \"Peter Vesterbacka\", \"Timo Rally\", \"Emotional Table\", \"Bill Gates\", \"Elon Musk\", \"Mark Zuckerberg\", \"Ayn Rand\", \"Karl Marx\", \"David Ben-Gurion\", \"Ekaterina Shulman\", \"Tukhtaboy Juma\", \"Igor Smirnov\"]})"
   ]
  },
  {
   "cell_type": "code",
   "execution_count": null,
   "id": "popular-welding",
   "metadata": {
    "scrolled": true
   },
   "outputs": [],
   "source": [
    "# Create some random grades and add them to the dataframe\n",
    "rel_grades = []\n",
    "irrel_grades = []\n",
    "motivation = []\n",
    "for i in range(len(names)):\n",
    "    rel_grades.append(round(random.uniform(0, 5), 3))\n",
    "    irrel_grades.append(round(random.uniform(0, 5), 3))\n",
    "    motivation.append(round(random.randint(1, 5)))"
   ]
  },
  {
   "cell_type": "code",
   "execution_count": null,
   "id": "noble-submission",
   "metadata": {
    "scrolled": true
   },
   "outputs": [],
   "source": [
    "# Create the table with grades\n",
    "names[\"relevant_grades\"] = rel_grades\n",
    "names[\"irrelevant_grades\"] = irrel_grades\n",
    "names[\"motivation\"] = motivation\n",
    "print(names)"
   ]
  },
  {
   "cell_type": "code",
   "execution_count": null,
   "id": "elegant-screen",
   "metadata": {},
   "outputs": [],
   "source": [
    "# Calculating rating for students and adding it to the table\n",
    "rating = []\n",
    "for i in range(len(names)):\n",
    "    rating.append(rate(names.iloc[i][\"relevant_grades\"], names.iloc[i][\"irrelevant_grades\"], names.iloc[i][\"motivation\"]))\n",
    "names[\"rating\"] = rating\n",
    "print(names)"
   ]
  },
  {
   "cell_type": "code",
   "execution_count": null,
   "id": "classified-riverside",
   "metadata": {},
   "outputs": [],
   "source": [
    "# Sorting the table by rating\n",
    "names_sorted = names.sort_values(\"rating\", ascending = False, ignore_index = True)\n",
    "print(names_sorted)"
   ]
  },
  {
   "cell_type": "code",
   "execution_count": null,
   "id": "canadian-pressure",
   "metadata": {},
   "outputs": [],
   "source": [
    "# Try grouping with different min and max members:\n",
    "\n",
    "min_memb = 2\n",
    "max_memb = 3\n",
    "alpha_interval = 0\n",
    "example = grouping(names_sorted, min_memb, max_memb)\n",
    "while len(example[\"group\" + str(len(example) - 1)]) < min_memb:\n",
    "    alpha_interval = alpha_interval + 0.05\n",
    "    alpha = round(random.uniform(-alpha_interval, alpha_interval), 3)\n",
    "    example = grouping(names_sorted, min_memb, max_memb, alpha)\n",
    "for i in example:\n",
    "    print(example[i])"
   ]
  }
 ],
 "metadata": {
  "kernelspec": {
   "display_name": "Python 3",
   "language": "python",
   "name": "python3"
  },
  "language_info": {
   "codemirror_mode": {
    "name": "ipython",
    "version": 3
   },
   "file_extension": ".py",
   "mimetype": "text/x-python",
   "name": "python",
   "nbconvert_exporter": "python",
   "pygments_lexer": "ipython3",
   "version": "3.9.1"
  }
 },
 "nbformat": 4,
 "nbformat_minor": 5
}
