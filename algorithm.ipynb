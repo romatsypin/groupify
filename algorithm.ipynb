{
 "cells": [
  {
   "cell_type": "code",
   "execution_count": null,
   "id": "casual-price",
   "metadata": {},
   "outputs": [],
   "source": [
    "import pandas as pd\n",
    "import numpy as np\n",
    "import random"
   ]
  },
  {
   "cell_type": "code",
   "execution_count": null,
   "id": "informational-turtle",
   "metadata": {},
   "outputs": [],
   "source": [
    "# Create a column of names\n",
    "names = pd.DataFrame({\"name\": [\"Roman Tsypin\", \"Eric Telkkälä\", \"Topi Aila\", \"Samantha Bergdahl\", \"Cezar Budeci\", \"Tuuli Tapaninen\", \"Kaisa Otterklau\", \"Hamza Lol\", \"Moms Spaghetti\", \"Sanna Marin\", \"Wide Putin\", \"Peter Vesterbacka\", \"Timo Rally\", \"Emotional Table\", \"Bill Gates\", \"Elon Musk\", \"Mark Zuckerberg\", \"Ayn Rand\", \"Karl Marx\", \"David Ben-Gurion\", \"Ekaterina Shulman\"]})"
   ]
  },
  {
   "cell_type": "code",
   "execution_count": null,
   "id": "popular-welding",
   "metadata": {
    "scrolled": true
   },
   "outputs": [],
   "source": [
    "# Create some random grades and add them to the dataframe\n",
    "rel_grades = []\n",
    "irrel_grades = []\n",
    "for i in range(names.shape[0]):\n",
    "    rel_grades.append(round(random.uniform(0, 5), 3))\n",
    "    irrel_grades.append(round(random.uniform(0, 5), 3))"
   ]
  },
  {
   "cell_type": "code",
   "execution_count": null,
   "id": "noble-submission",
   "metadata": {
    "scrolled": true
   },
   "outputs": [],
   "source": [
    "# Create the table with grades\n",
    "names[\"relevant_grades\"] = rel_grades\n",
    "names[\"irrelevant_grades\"] = irrel_grades\n",
    "print(names)"
   ]
  },
  {
   "cell_type": "code",
   "execution_count": null,
   "id": "sublime-teddy",
   "metadata": {},
   "outputs": [],
   "source": [
    "# Rating function\n",
    "def rate(rel_grades, irrel_grades):\n",
    "    a = 2 * rel_grades + 0.5 * irrel_grades\n",
    "    return a"
   ]
  },
  {
   "cell_type": "code",
   "execution_count": null,
   "id": "elegant-screen",
   "metadata": {},
   "outputs": [],
   "source": [
    "# Calculating rating for students and adding it to the table\n",
    "rating = []\n",
    "for i in range(names.shape[0]):\n",
    "    rating.append(rate(names.iloc[i][\"relevant_grades\"], names.iloc[i][\"irrelevant_grades\"]))\n",
    "names[\"rating\"] = rating\n",
    "print(names)"
   ]
  },
  {
   "cell_type": "code",
   "execution_count": null,
   "id": "classified-riverside",
   "metadata": {},
   "outputs": [],
   "source": [
    "# Sorting the table by rating\n",
    "names_sorted = names.sort_values(\"rating\", ascending = False, ignore_index = True)\n",
    "print(names_sorted)"
   ]
  },
  {
   "cell_type": "code",
   "execution_count": null,
   "id": "distinguished-circumstances",
   "metadata": {},
   "outputs": [],
   "source": [
    "# Grouping function\n",
    "def grouping(group, min_memb, max_memb):\n",
    "    distance = [0]\n",
    "    for i in range(group.shape[0] - 1):\n",
    "        distance.append(abs(group.iloc[i + 1][\"rating\"] - group.iloc[i][\"rating\"]))\n",
    "    group[\"distance\"] = distance\n",
    "    median_dist = group.median()[\"distance\"]\n",
    "    student = 0\n",
    "    group_num = 0\n",
    "    groups_dict = {}\n",
    "    while student < group.shape[0]:\n",
    "        print(\"Process starts with student nro \" + str(student) + \" and group \" + str(group_num))\n",
    "        key_name = 'group' + str(group_num)\n",
    "        groups_dict[key_name] = group.iloc[[]]\n",
    "        if student + 1 != group.shape[0]:\n",
    "            groups_dict[key_name] = groups_dict[key_name].append(group.iloc[[student]])\n",
    "            student = student + 1\n",
    "            print(\"Here\")\n",
    "        elif student + 1 == group.shape[0]:\n",
    "            groups_dict[key_name] = groups_dict[key_name].append(group.iloc[[student]])\n",
    "            print(\"There\")\n",
    "            break\n",
    "        else:\n",
    "            break\n",
    "        while groups_dict[key_name].shape[0] < min_memb:\n",
    "            groups_dict[key_name] = groups_dict[key_name].append(group.iloc[[student]])\n",
    "            if student + 1 != group.shape[0]:\n",
    "                student = student + 1\n",
    "            else:\n",
    "                break\n",
    "            if groups_dict[key_name].shape[0] == min_memb:\n",
    "                while groups_dict[key_name].shape[0] < max_memb:\n",
    "                    if group.iloc[student][\"distance\"] < median_dist:\n",
    "                        groups_dict[key_name] = groups_dict[key_name].append(group.iloc[[student]])\n",
    "                        if student + 1 != group.shape[0]:\n",
    "                            student = student + 1\n",
    "                        else:\n",
    "                            break\n",
    "                    else:\n",
    "                        break\n",
    "        if student + 1 == group.shape[0] and group.index.values[-1] == groups_dict[key_name].index.values[-1]:\n",
    "            break\n",
    "        print(\"Process end with student nro \" + str(student) + \" and group \" + str(group_num))\n",
    "        group_num = group_num + 1\n",
    "    for i in groups_dict:\n",
    "        print(groups_dict[i])"
   ]
  },
  {
   "cell_type": "code",
   "execution_count": null,
   "id": "canadian-pressure",
   "metadata": {},
   "outputs": [],
   "source": [
    "# Two issues:\n",
    "# 1. If minimum members is one, the algorithm is always gonna split into one-member teams\n",
    "# 2. Sometimes assigns the last member of the whole study group into separate team. Perhaps, they are too bad lmao.\n",
    "# Try grouping with different min and max members:\n",
    "grouping(names_sorted, 2, 5)"
   ]
  },
  {
   "cell_type": "code",
   "execution_count": null,
   "id": "brief-ordinance",
   "metadata": {},
   "outputs": [],
   "source": []
  }
 ],
 "metadata": {
  "kernelspec": {
   "display_name": "Python 3",
   "language": "python",
   "name": "python3"
  },
  "language_info": {
   "codemirror_mode": {
    "name": "ipython",
    "version": 3
   },
   "file_extension": ".py",
   "mimetype": "text/x-python",
   "name": "python",
   "nbconvert_exporter": "python",
   "pygments_lexer": "ipython3",
   "version": "3.9.1"
  }
 },
 "nbformat": 4,
 "nbformat_minor": 5
}
